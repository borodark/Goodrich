{
  "nbformat": 4,
  "nbformat_minor": 0,
  "metadata": {
    "colab": {
      "name": "Assignment4.ipynb",
      "version": "0.3.2",
      "provenance": [],
      "collapsed_sections": [],
      "include_colab_link": true
    },
    "kernelspec": {
      "name": "python3",
      "display_name": "Python 3"
    }
  },
  "cells": [
    {
      "cell_type": "markdown",
      "metadata": {
        "id": "view-in-github",
        "colab_type": "text"
      },
      "source": [
        "<a href=\"https://colab.research.google.com/github/borodark/Goodrich/blob/master/Assignment4.ipynb\" target=\"_parent\"><img src=\"https://colab.research.google.com/assets/colab-badge.svg\" alt=\"Open In Colab\"/></a>"
      ]
    },
    {
      "metadata": {
        "id": "YLCtcwSCmeGz",
        "colab_type": "code",
        "outputId": "146a8c59-44e6-40db-c3c4-1c08af0dc11c",
        "colab": {
          "base_uri": "https://localhost:8080/",
          "height": 204
        }
      },
      "cell_type": "code",
      "source": [
        "!apt-get install openjdk-8-jdk-headless -qq > /dev/null\n",
        "![ ! -e \"$(basename spark-2.4.1-bin-hadoop2.7.tgz)\" ] && wget  http://apache.osuosl.org/spark/spark-2.4.1/spark-2.4.1-bin-hadoop2.7.tgz\n",
        "!tar xf spark-2.4.1-bin-hadoop2.7.tgz"
      ],
      "execution_count": 0,
      "outputs": [
        {
          "output_type": "stream",
          "text": [
            "--2019-04-09 00:58:38--  http://apache.osuosl.org/spark/spark-2.4.1/spark-2.4.1-bin-hadoop2.7.tgz\n",
            "Resolving apache.osuosl.org (apache.osuosl.org)... 64.50.236.52, 140.211.166.134, 64.50.233.100, ...\n",
            "Connecting to apache.osuosl.org (apache.osuosl.org)|64.50.236.52|:80... connected.\n",
            "HTTP request sent, awaiting response... 200 OK\n",
            "Length: 230778742 (220M) [application/x-gzip]\n",
            "Saving to: ‘spark-2.4.1-bin-hadoop2.7.tgz’\n",
            "\n",
            "spark-2.4.1-bin-had 100%[===================>] 220.09M  26.1MB/s    in 13s     \n",
            "\n",
            "2019-04-09 00:58:51 (17.0 MB/s) - ‘spark-2.4.1-bin-hadoop2.7.tgz’ saved [230778742/230778742]\n",
            "\n"
          ],
          "name": "stdout"
        }
      ]
    },
    {
      "metadata": {
        "id": "omNkhAwl2V21",
        "colab_type": "code",
        "colab": {}
      },
      "cell_type": "code",
      "source": [
        "!pip install -q findspark"
      ],
      "execution_count": 0,
      "outputs": []
    },
    {
      "metadata": {
        "id": "l6yH8VATnKiN",
        "colab_type": "code",
        "colab": {}
      },
      "cell_type": "code",
      "source": [
        "import os\n",
        "os.environ[\"JAVA_HOME\"] = \"/usr/lib/jvm/java-8-openjdk-amd64\"\n",
        "os.environ[\"SPARK_HOME\"] = \"/content/spark-2.4.1-bin-hadoop2.7\""
      ],
      "execution_count": 0,
      "outputs": []
    },
    {
      "metadata": {
        "id": "V61ecorTnQKK",
        "colab_type": "code",
        "colab": {}
      },
      "cell_type": "code",
      "source": [
        "import findspark\n",
        "findspark.init()\n",
        "from pyspark.sql import SparkSession\n",
        "\n",
        "# get a spark session. \n",
        "spark = SparkSession.builder.master(\"local[*]\").getOrCreate()"
      ],
      "execution_count": 0,
      "outputs": []
    },
    {
      "metadata": {
        "id": "lYdU0VDXmNhL",
        "colab_type": "code",
        "outputId": "a986a40a-5b01-447d-bf75-f56ad4dee32d",
        "colab": {
          "base_uri": "https://localhost:8080/",
          "height": 159
        }
      },
      "cell_type": "code",
      "source": [
        "\n",
        "ss_ = spark.read.csv(\"ss.csv\", header= True, \n",
        "                      inferSchema = True)\n",
        "\n",
        "print(ss_.columns)\n",
        "\n",
        "columns_lambda = lambda k: k.endswith(', Current week')\n",
        "\n",
        "common_cols = ['Reporting Area','MMWR Year','MMWR Week']\n",
        "\n",
        "sss = filter(columns_lambda, ss_.columns)\n",
        "\n",
        "\n",
        "to_keep = common_cols + list(sss)\n",
        "\n",
        "dfss = ss_.select(*to_keep).withColumnRenamed('Reporting Area', 'area').withColumnRenamed('MMWR Year','year').withColumnRenamed('MMWR Week','week')\n",
        "dfss.columns"
      ],
      "execution_count": 64,
      "outputs": [
        {
          "output_type": "stream",
          "text": [
            "['Reporting Area', 'MMWR Year', 'MMWR Week', 'Salmonellosis (excluding Paratyphoid fever andTyphoid fever)†, Current week', 'Salmonellosis (excluding Paratyphoid fever andTyphoid fever)†, Current week, flag', 'Salmonellosis (excluding Paratyphoid fever andTyphoid fever)†, Previous 52 weeks Med', 'Salmonellosis (excluding Paratyphoid fever andTyphoid fever)†, Previous 52 weeks Med, flag', 'Salmonellosis (excluding Paratyphoid fever andTyphoid fever)†, Previous 52 weeks Max', 'Salmonellosis (excluding Paratyphoid fever andTyphoid fever)†, Previous 52 weeks Max, flag', 'Salmonellosis (excluding Paratyphoid fever andTyphoid fever)†, Cum 2018', 'Salmonellosis (excluding Paratyphoid fever andTyphoid fever)†, Cum 2018, flag', 'Salmonellosis (excluding Paratyphoid fever andTyphoid fever)†, Cum 2017', 'Salmonellosis (excluding Paratyphoid fever andTyphoid fever)†, Cum 2017, flag', 'Shiga toxin-producing Escherichia coli, Current week', 'Shiga toxin-producing Escherichia coli, Current week, flag', 'Shiga toxin-producing Escherichia coli, Previous 52 weeks Med', 'Shiga toxin-producing Escherichia coli, Previous 52 weeks Med, flag', 'Shiga toxin-producing Escherichia coli, Previous 52 weeks Max', 'Shiga toxin-producing Escherichia coli, Previous 52 weeks Max, flag', 'Shiga toxin-producing Escherichia coli, Cum 2018', 'Shiga toxin-producing Escherichia coli, Cum 2018, flag', 'Shiga toxin-producing Escherichia coli, Cum 2017', 'Shiga toxin-producing Escherichia coli, Cum 2017, flag', 'Shigellosis, Current week', 'Shigellosis, Current week, flag', 'Shigellosis, Previous 52 weeks Med', 'Shigellosis, Previous 52 weeks Med, flag', 'Shigellosis, Previous 52 weeks Max', 'Shigellosis, Previous 52 weeks Max, flag', 'Shigellosis, Cum 2018', 'Shigellosis, Cum 2018, flag', 'Shigellosis, Cum 2017', 'Shigellosis, Cum 2017, flag']\n"
          ],
          "name": "stdout"
        },
        {
          "output_type": "execute_result",
          "data": {
            "text/plain": [
              "['area',\n",
              " 'year',\n",
              " 'week',\n",
              " 'Salmonellosis (excluding Paratyphoid fever andTyphoid fever)†, Current week',\n",
              " 'Shiga toxin-producing Escherichia coli, Current week',\n",
              " 'Shigellosis, Current week']"
            ]
          },
          "metadata": {
            "tags": []
          },
          "execution_count": 64
        }
      ]
    },
    {
      "metadata": {
        "id": "Dnvtmvp8UFl6",
        "colab_type": "code",
        "colab": {
          "base_uri": "https://localhost:8080/",
          "height": 104
        },
        "outputId": "585d82ac-02db-4f14-c7e0-fffdbb72d436"
      },
      "cell_type": "code",
      "source": [
        "ch_ = spark.read.csv(\"ch.csv\", header= True, \n",
        "                      inferSchema = True)\n",
        "\n",
        "sss = filter(columns_lambda, ch_.columns)\n",
        "\n",
        "\n",
        "to_keep = common_cols + list(sss)\n",
        "\n",
        "chss = ch_.select(*to_keep).withColumnRenamed('Reporting Area', 'area').withColumnRenamed('MMWR Year','year').withColumnRenamed('MMWR Week','week')\n",
        "\n",
        "chss.columns"
      ],
      "execution_count": 68,
      "outputs": [
        {
          "output_type": "execute_result",
          "data": {
            "text/plain": [
              "['area',\n",
              " 'year',\n",
              " 'week',\n",
              " 'Chlamydia trachomatis infection, Current week',\n",
              " 'Coccidioidomycosis, Current week']"
            ]
          },
          "metadata": {
            "tags": []
          },
          "execution_count": 68
        }
      ]
    },
    {
      "metadata": {
        "id": "JqQE0Nmwb-DL",
        "colab_type": "code",
        "colab": {
          "base_uri": "https://localhost:8080/",
          "height": 1875
        },
        "outputId": "c103e633-e4de-4351-eaca-7bbcdbc80418"
      },
      "cell_type": "code",
      "source": [
        "to_keep = common_cols + list(sss)\n",
        "\n",
        "cghss = chss.join(dfss, [chss.area == dfss.area, chss.week == dfss.week ,chss.year == dfss.year] )\n",
        "cghss.show(100)"
      ],
      "execution_count": 83,
      "outputs": [
        {
          "output_type": "stream",
          "text": [
            "+--------------+----+----+---------------------------------------------+--------------------------------+--------------+----+----+---------------------------------------------------------------------------+----------------------------------------------------+-------------------------+\n",
            "|          area|year|week|Chlamydia trachomatis infection, Current week|Coccidioidomycosis, Current week|          area|year|week|Salmonellosis (excluding Paratyphoid fever andTyphoid fever)†, Current week|Shiga toxin-producing Escherichia coli, Current week|Shigellosis, Current week|\n",
            "+--------------+----+----+---------------------------------------------+--------------------------------+--------------+----+----+---------------------------------------------------------------------------+----------------------------------------------------+-------------------------+\n",
            "| UNITED STATES|2018|   1|                                         3741|                             262| UNITED STATES|2018|   1|                                                                          9|                                                  15|                       50|\n",
            "|   NEW ENGLAND|2018|   1|                                            9|                            null|   NEW ENGLAND|2018|   1|                                                                       null|                                                null|                     null|\n",
            "| MID. ATLANTIC|2018|   1|                                          932|                            null| MID. ATLANTIC|2018|   1|                                                                          9|                                                   3|                       12|\n",
            "| NEW YORK CITY|2018|   1|                                         null|                            null| NEW YORK CITY|2018|   1|                                                                          9|                                                   1|                       10|\n",
            "|  E.N. CENTRAL|2018|   1|                                         1017|                            null|  E.N. CENTRAL|2018|   1|                                                                       null|                                                   5|                       12|\n",
            "|  W.N. CENTRAL|2018|   1|                                          171|                               1|  W.N. CENTRAL|2018|   1|                                                                       null|                                                   3|                        3|\n",
            "|   S. ATLANTIC|2018|   1|                                          411|                            null|   S. ATLANTIC|2018|   1|                                                                       null|                                                   1|                        8|\n",
            "|  E.S. CENTRAL|2018|   1|                                          150|                            null|  E.S. CENTRAL|2018|   1|                                                                       null|                                                null|                       10|\n",
            "|  W.S. CENTRAL|2018|   1|                                           11|                            null|  W.S. CENTRAL|2018|   1|                                                                       null|                                                   1|                        1|\n",
            "|      MOUNTAIN|2018|   1|                                          481|                             261|      MOUNTAIN|2018|   1|                                                                       null|                                                null|                        2|\n",
            "|       PACIFIC|2018|   1|                                          559|                            null|       PACIFIC|2018|   1|                                                                       null|                                                   2|                        2|\n",
            "|   AMER. SAMOA|2018|   1|                                         null|                            null|   AMER. SAMOA|2018|   1|                                                                       null|                                                null|                     null|\n",
            "|  SOUTH DAKOTA|2018|   1|                                            1|                            null|  SOUTH DAKOTA|2018|   1|                                                                       null|                                                null|                     null|\n",
            "| NEW HAMPSHIRE|2018|   1|                                         null|                            null| NEW HAMPSHIRE|2018|   1|                                                                       null|                                                null|                     null|\n",
            "|SOUTH CAROLINA|2018|   1|                                         null|                            null|SOUTH CAROLINA|2018|   1|                                                                       null|                                                   1|                        3|\n",
            "|      MICHIGAN|2018|   1|                                          104|                            null|      MICHIGAN|2018|   1|                                                                       null|                                                null|                     null|\n",
            "|    NEW MEXICO|2018|   1|                                            6|                            null|    NEW MEXICO|2018|   1|                                                                       null|                                                null|                     null|\n",
            "|        OREGON|2018|   1|                                          324|                            null|        OREGON|2018|   1|                                                                       null|                                                   2|                        2|\n",
            "|      DELAWARE|2018|   1|                                         null|                            null|      DELAWARE|2018|   1|                                                                       null|                                                null|                     null|\n",
            "|      NEW YORK|2018|   1|                                          246|                            null|      NEW YORK|2018|   1|                                                                       null|                                                   1|                        1|\n",
            "|      VIRGINIA|2018|   1|                                         null|                            null|      VIRGINIA|2018|   1|                                                                       null|                                                null|                     null|\n",
            "|   VIRGIN ISL.|2018|   1|                                         null|                            null|   VIRGIN ISL.|2018|   1|                                                                       null|                                                null|                     null|\n",
            "|   CONNECTICUT|2018|   1|                                         null|                            null|   CONNECTICUT|2018|   1|                                                                       null|                                                null|                     null|\n",
            "|       VERMONT|2018|   1|                                         null|                            null|       VERMONT|2018|   1|                                                                       null|                                                null|                     null|\n",
            "|        KANSAS|2018|   1|                                           62|                            null|        KANSAS|2018|   1|                                                                       null|                                                null|                     null|\n",
            "| WEST VIRGINIA|2018|   1|                                         null|                            null| WEST VIRGINIA|2018|   1|                                                                       null|                                                null|                     null|\n",
            "| MASSACHUSETTS|2018|   1|                                         null|                            null| MASSACHUSETTS|2018|   1|                                                                       null|                                                null|                     null|\n",
            "|       FLORIDA|2018|   1|                                          292|                            null|       FLORIDA|2018|   1|                                                                       null|                                                null|                     null|\n",
            "|      ILLINOIS|2018|   1|                                         null|                            null|      ILLINOIS|2018|   1|                                                                       null|                                                null|                     null|\n",
            "|         TEXAS|2018|   1|                                         null|                            null|         TEXAS|2018|   1|                                                                       null|                                                null|                     null|\n",
            "|  RHODE ISLAND|2018|   1|                                            9|                            null|  RHODE ISLAND|2018|   1|                                                                       null|                                                null|                     null|\n",
            "|  PENNSYLVANIA|2018|   1|                                          534|                            null|  PENNSYLVANIA|2018|   1|                                                                       null|                                                   1|                        1|\n",
            "|          GUAM|2018|   1|                                         null|                            null|          GUAM|2018|   1|                                                                       null|                                                null|                     null|\n",
            "|       ALABAMA|2018|   1|                                         null|                            null|       ALABAMA|2018|   1|                                                                       null|                                                null|                     null|\n",
            "|       GEORGIA|2018|   1|                                         null|                            null|       GEORGIA|2018|   1|                                                                       null|                                                null|                     null|\n",
            "|      COLORADO|2018|   1|                                          393|                            null|      COLORADO|2018|   1|                                                                       null|                                                null|                     null|\n",
            "|       MONTANA|2018|   1|                                         null|                            null|       MONTANA|2018|   1|                                                                       null|                                                null|                     null|\n",
            "|      MARYLAND|2018|   1|                                          119|                            null|      MARYLAND|2018|   1|                                                                       null|                                                null|                        5|\n",
            "|       ARIZONA|2018|   1|                                         null|                             261|       ARIZONA|2018|   1|                                                                       null|                                                null|                        2|\n",
            "|    NEW JERSEY|2018|   1|                                          152|                            null|    NEW JERSEY|2018|   1|                                                                       null|                                                null|                     null|\n",
            "|          IOWA|2018|   1|                                         null|                            null|          IOWA|2018|   1|                                                                       null|                                                null|                     null|\n",
            "|     LOUISIANA|2018|   1|                                           11|                            null|     LOUISIANA|2018|   1|                                                                       null|                                                null|                     null|\n",
            "|       INDIANA|2018|   1|                                          229|                            null|       INDIANA|2018|   1|                                                                       null|                                                null|                     null|\n",
            "|      KENTUCKY|2018|   1|                                         null|                            null|      KENTUCKY|2018|   1|                                                                       null|                                                null|                        1|\n",
            "|        HAWAII|2018|   1|                                         null|                            null|        HAWAII|2018|   1|                                                                       null|                                                null|                     null|\n",
            "|       WYOMING|2018|   1|                                         null|                            null|       WYOMING|2018|   1|                                                                       null|                                                null|                     null|\n",
            "|   MISSISSIPPI|2018|   1|                                           45|                            null|   MISSISSIPPI|2018|   1|                                                                       null|                                                null|                        4|\n",
            "|  NORTH DAKOTA|2018|   1|                                            1|                            null|  NORTH DAKOTA|2018|   1|                                                                       null|                                                null|                     null|\n",
            "|     TENNESSEE|2018|   1|                                          105|                            null|     TENNESSEE|2018|   1|                                                                       null|                                                null|                        5|\n",
            "|        ALASKA|2018|   1|                                         null|                            null|        ALASKA|2018|   1|                                                                       null|                                                null|                     null|\n",
            "|     WISCONSIN|2018|   1|                                          219|                            null|     WISCONSIN|2018|   1|                                                                       null|                                                   1|                     null|\n",
            "|    WASHINGTON|2018|   1|                                          235|                            null|    WASHINGTON|2018|   1|                                                                       null|                                                null|                     null|\n",
            "|NORTH CAROLINA|2018|   1|                                         null|                            null|NORTH CAROLINA|2018|   1|                                                                       null|                                                null|                     null|\n",
            "|      MISSOURI|2018|   1|                                          107|                               1|      MISSOURI|2018|   1|                                                                       null|                                                   3|                        3|\n",
            "|         MAINE|2018|   1|                                         null|                            null|         MAINE|2018|   1|                                                                       null|                                                null|                     null|\n",
            "|          OHIO|2018|   1|                                          465|                            null|          OHIO|2018|   1|                                                                       null|                                                   4|                       12|\n",
            "|      C.N.M.I.|2018|   1|                                         null|                            null|      C.N.M.I.|2018|   1|                                                                       null|                                                null|                     null|\n",
            "|     MINNESOTA|2018|   1|                                         null|                            null|     MINNESOTA|2018|   1|                                                                       null|                                                null|                     null|\n",
            "|      OKLAHOMA|2018|   1|                                         null|                            null|      OKLAHOMA|2018|   1|                                                                       null|                                                null|                     null|\n",
            "|          UTAH|2018|   1|                                           82|                            null|          UTAH|2018|   1|                                                                       null|                                                null|                     null|\n",
            "|        NEVADA|2018|   1|                                         null|                            null|        NEVADA|2018|   1|                                                                       null|                                                null|                     null|\n",
            "|   PUERTO RICO|2018|   1|                                         null|                            null|   PUERTO RICO|2018|   1|                                                                       null|                                                null|                     null|\n",
            "|         IDAHO|2018|   1|                                         null|                            null|         IDAHO|2018|   1|                                                                       null|                                                null|                     null|\n",
            "|    CALIFORNIA|2018|   1|                                         null|                            null|    CALIFORNIA|2018|   1|                                                                       null|                                                null|                     null|\n",
            "|      NEBRASKA|2018|   1|                                         null|                            null|      NEBRASKA|2018|   1|                                                                       null|                                                null|                     null|\n",
            "|      ARKANSAS|2018|   1|                                         null|                            null|      ARKANSAS|2018|   1|                                                                       null|                                                   1|                        1|\n",
            "| DIST. OF COL.|2018|   1|                                         null|                            null| DIST. OF COL.|2018|   1|                                                                       null|                                                null|                     null|\n",
            "| UNITED STATES|2018|   2|                                         9071|                             236| UNITED STATES|2018|   2|                                                                         26|                                                  25|                       53|\n",
            "|   NEW ENGLAND|2018|   2|                                            8|                            null|   NEW ENGLAND|2018|   2|                                                                          1|                                                null|                     null|\n",
            "| MID. ATLANTIC|2018|   2|                                         2569|                            null| MID. ATLANTIC|2018|   2|                                                                         19|                                                   4|                       17|\n",
            "| NEW YORK CITY|2018|   2|                                          749|                            null| NEW YORK CITY|2018|   2|                                                                         19|                                                   2|                       11|\n",
            "|  E.N. CENTRAL|2018|   2|                                         1424|                            null|  E.N. CENTRAL|2018|   2|                                                                       null|                                                   6|                       11|\n",
            "|  W.N. CENTRAL|2018|   2|                                          440|                            null|  W.N. CENTRAL|2018|   2|                                                                       null|                                                   3|                     null|\n",
            "|   S. ATLANTIC|2018|   2|                                         2481|                            null|   S. ATLANTIC|2018|   2|                                                                       null|                                                   4|                       10|\n",
            "|  E.S. CENTRAL|2018|   2|                                          522|                            null|  E.S. CENTRAL|2018|   2|                                                                       null|                                                null|                     null|\n",
            "|  W.S. CENTRAL|2018|   2|                                           74|                            null|  W.S. CENTRAL|2018|   2|                                                                       null|                                                   5|                        5|\n",
            "|      MOUNTAIN|2018|   2|                                          341|                             216|      MOUNTAIN|2018|   2|                                                                       null|                                                   2|                        5|\n",
            "|       PACIFIC|2018|   2|                                         1212|                              20|       PACIFIC|2018|   2|                                                                          6|                                                   1|                        5|\n",
            "|   AMER. SAMOA|2018|   2|                                         null|                            null|   AMER. SAMOA|2018|   2|                                                                       null|                                                null|                     null|\n",
            "|      ILLINOIS|2018|   2|                                         null|                            null|      ILLINOIS|2018|   2|                                                                       null|                                                null|                     null|\n",
            "|  RHODE ISLAND|2018|   2|                                            8|                            null|  RHODE ISLAND|2018|   2|                                                                       null|                                                null|                     null|\n",
            "|SOUTH CAROLINA|2018|   2|                                         null|                            null|SOUTH CAROLINA|2018|   2|                                                                       null|                                                   2|                        4|\n",
            "|   CONNECTICUT|2018|   2|                                         null|                            null|   CONNECTICUT|2018|   2|                                                                       null|                                                null|                     null|\n",
            "|      NEBRASKA|2018|   2|                                         null|                            null|      NEBRASKA|2018|   2|                                                                       null|                                                   3|                     null|\n",
            "| WEST VIRGINIA|2018|   2|                                         null|                            null| WEST VIRGINIA|2018|   2|                                                                       null|                                                null|                     null|\n",
            "|         IDAHO|2018|   2|                                          108|                            null|         IDAHO|2018|   2|                                                                       null|                                                   1|                     null|\n",
            "|       MONTANA|2018|   2|                                         null|                            null|       MONTANA|2018|   2|                                                                       null|                                                null|                     null|\n",
            "|        HAWAII|2018|   2|                                         null|                            null|        HAWAII|2018|   2|                                                                       null|                                                null|                     null|\n",
            "|      OKLAHOMA|2018|   2|                                           43|                            null|      OKLAHOMA|2018|   2|                                                                       null|                                                null|                        2|\n",
            "| DIST. OF COL.|2018|   2|                                         null|                            null| DIST. OF COL.|2018|   2|                                                                       null|                                                null|                     null|\n",
            "|       WYOMING|2018|   2|                                         null|                            null|       WYOMING|2018|   2|                                                                       null|                                                null|                     null|\n",
            "|        ALASKA|2018|   2|                                         null|                            null|        ALASKA|2018|   2|                                                                       null|                                                null|                     null|\n",
            "|          GUAM|2018|   2|                                         null|                            null|          GUAM|2018|   2|                                                                       null|                                                null|                     null|\n",
            "|    WASHINGTON|2018|   2|                                          415|                            null|    WASHINGTON|2018|   2|                                                                       null|                                                null|                     null|\n",
            "|      MARYLAND|2018|   2|                                          332|                            null|      MARYLAND|2018|   2|                                                                       null|                                                   2|                        3|\n",
            "|  PENNSYLVANIA|2018|   2|                                          734|                            null|  PENNSYLVANIA|2018|   2|                                                                       null|                                                   1|                        2|\n",
            "|   VIRGIN ISL.|2018|   2|                                         null|                            null|   VIRGIN ISL.|2018|   2|                                                                       null|                                                null|                     null|\n",
            "|    NEW MEXICO|2018|   2|                                           50|                            null|    NEW MEXICO|2018|   2|                                                                       null|                                                null|                     null|\n",
            "|       ARIZONA|2018|   2|                                          183|                             216|       ARIZONA|2018|   2|                                                                       null|                                                   1|                        5|\n",
            "|      MISSOURI|2018|   2|                                          219|                            null|      MISSOURI|2018|   2|                                                                       null|                                                null|                     null|\n",
            "+--------------+----+----+---------------------------------------------+--------------------------------+--------------+----+----+---------------------------------------------------------------------------+----------------------------------------------------+-------------------------+\n",
            "only showing top 100 rows\n",
            "\n"
          ],
          "name": "stdout"
        }
      ]
    }
  ]
}